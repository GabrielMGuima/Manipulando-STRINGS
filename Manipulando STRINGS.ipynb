{
 "cells": [
  {
   "cell_type": "code",
   "execution_count": 1,
   "metadata": {},
   "outputs": [],
   "source": [
    "# Transformando Strings\n",
    "\n",
    "\n",
    "# 'upper'Utilizado para deixar strings Maiusculas\n",
    "\n",
    "# 'lower' Utilizado para deixar strings Minusculas\n",
    "\n",
    "# 'title' Utilizado para deixar somente a primeira letra Maiuscula e o restante minuscula\n",
    "\n",
    "# 'strip' Remove Espaços em branco da esquerda e da direita\n",
    "\n",
    "# 'lstrip' Remove o Espaço Da Esquerda\n",
    "\n",
    "# 'rstrip' Remove o Espaço da Direita\n",
    "\n",
    "# 'center' Centraliza o texto e preenche os espaços com um Caracter (pre Definido)\n",
    "# Se Nenhum Caracter For usado ele preencher com espaço vazil\n",
    "# É necessario indicar a quantidade de Espaços que deseja preencher\n",
    "\n",
    "# '.join(curso)' Utilizado para cada vez que passar por um item ele colocar o Caracter (Pre Definido)\n",
    "# Aqui o 'curso' é Utilizado apos .join\n",
    "\n",
    "\n",
    "#'.format' e 'F-string' São Dois tipos De Formatação\n",
    "# A Formatação serve pra acresenta o resultado de uma variavel dentro do print de forma mais pratica\n",
    "# Também serve pra definir a quantidade de Caracter que sera exibida\n",
    "# Formatação em F-string{(Nome da Variavel):.(Um Valor)f}\n",
    "#Formatação e, '.format'{:.(um numero)f}\n",
    "\n",
    "#Fatiamento de strings é uma técnica utilizada para retornar substrings(Recorta pedaços)\n",
    "#'start' informando inicio\n",
    "#'stop'informando fim\n",
    "#'step' e refletindo\n",
    "# [start:stop[step]]\n",
    "\n",
    "#'String-Tripla' ou 'strings-Multiplas' São um argumento usado pra facilitar na formatação de um texto grande\n",
    "# De Forma que respeite a forma em que você determinou(veja Um exemplo abaixo)"
   ]
  },
  {
   "cell_type": "code",
   "execution_count": 2,
   "metadata": {},
   "outputs": [
    {
     "name": "stdout",
     "output_type": "stream",
     "text": [
      "BEBE\n",
      "bebe\n",
      "Bebe\n"
     ]
    }
   ],
   "source": [
    "#Exemplo de 'upper' de 'lower' e 'title'\n",
    "\n",
    "texto= input('Digite Um texto')\n",
    "print(texto.upper())\n",
    "print(texto.lower())\n",
    "print(texto.title())\n"
   ]
  },
  {
   "cell_type": "code",
   "execution_count": 4,
   "metadata": {},
   "outputs": [
    {
     "name": "stdout",
     "output_type": "stream",
     "text": [
      "Bebe.\n",
      "Bebe.\n",
      "Bebe.\n"
     ]
    }
   ],
   "source": [
    "#Exemplo de 'strip' de 'lstrip' e 'rstrip'\n",
    "texto = input('Digire Um texto')\n",
    "print(texto.strip()+ '.')\n",
    "print(texto.lstrip()+ '.')\n",
    "print(texto.rstrip()+'.')"
   ]
  },
  {
   "cell_type": "code",
   "execution_count": 4,
   "metadata": {},
   "outputs": [
    {
     "name": "stdout",
     "output_type": "stream",
     "text": [
      "#########d##########\n",
      "d\n"
     ]
    }
   ],
   "source": [
    "#Exemplo de 'center' e 'join'\n",
    "texto = input('Digite Um Texto')\n",
    "print(texto.center(20,'#'))\n",
    "print('-'.join(texto))\n"
   ]
  },
  {
   "cell_type": "code",
   "execution_count": 5,
   "metadata": {},
   "outputs": [
    {
     "name": "stdout",
     "output_type": "stream",
     "text": [
      "Meu Nome é Gabriel e Minha idade é 23\n",
      "meu nome é Gabriel e Minha idade é 23\n"
     ]
    }
   ],
   "source": [
    "#Exemplo de '.Format' e 'F-string'\n",
    "nome = 'Gabriel'\n",
    "idade = '23'\n",
    "print('Meu Nome é {} e Minha idade é {}'.format(nome,idade))\n",
    "print(f'meu nome é {nome} e Minha idade é {idade}')"
   ]
  },
  {
   "cell_type": "code",
   "execution_count": 6,
   "metadata": {},
   "outputs": [
    {
     "name": "stdout",
     "output_type": "stream",
     "text": [
      "Sua Soma da 1710.0000\n",
      "Sua Soma da 342.556\n",
      "Seu Numero sera              542.667\n",
      "Seu Número Sera       542.66667\n"
     ]
    }
   ],
   "source": [
    "#Exemplo De Formatação\n",
    "\n",
    "numero = 342*5\n",
    "numero2 = 342.55555555555\n",
    "numero3 = 542.6666666\n",
    "print(f'Sua Soma da {numero:.4f}')\n",
    "print('Sua Soma da {:.3f}'.format(numero2))\n",
    "# Também Pode ser adicionado numeros de caracter a ser usado\n",
    "print('Seu Numero sera {:20.3f}'.format(numero3))\n",
    "print(f'Seu Número Sera {numero3:15.5f}')\n"
   ]
  },
  {
   "cell_type": "code",
   "execution_count": 7,
   "metadata": {},
   "outputs": [
    {
     "name": "stdout",
     "output_type": "stream",
     "text": [
      " os tipos De fatiamento\n",
      " os tipo\n",
      "Testando o\n",
      "otnemaitaf eD sopit so odnatseT\n"
     ]
    }
   ],
   "source": [
    "# Exemplo de Fatiamento 'start' , 'stop' e 'step'\n",
    "\n",
    "texto= 'Testando os tipos De fatiamento'\n",
    "print(texto[8:])\n",
    "print(texto[8:16])\n",
    "print(texto[:10])\n",
    "print(texto[::-1])"
   ]
  },
  {
   "cell_type": "code",
   "execution_count": 8,
   "metadata": {},
   "outputs": [
    {
     "name": "stdout",
     "output_type": "stream",
     "text": [
      "\n",
      "\n",
      "Nesse Meu Texto Estou dando um Exemplo de uma forma de  eu inserir um texto da forma \n",
      "      que eu desejar          organizar  palavras       numeros        \n",
      "                            e até Variaveis aqui dentro   e mostrar que dessa forma sera respeitada a forma que eu \n",
      "            Digitar \n",
      "\n"
     ]
    }
   ],
   "source": [
    "#Exemplo de string-Tripla\n",
    "\n",
    "print('''\n",
    "\n",
    "Nesse Meu Texto Estou dando um Exemplo de uma forma de  eu inserir um texto da forma \n",
    "      que eu desejar          organizar  palavras       numeros        \n",
    "                            e até Variaveis aqui dentro   e mostrar que dessa forma sera respeitada a forma que eu \n",
    "            Digitar \n",
    "''') \n",
    "# Isso Pode Ser Usado Com os tipos de formatação e de Fatiamento"
   ]
  }
 ],
 "metadata": {
  "kernelspec": {
   "display_name": "Python 3",
   "language": "python",
   "name": "python3"
  },
  "language_info": {
   "codemirror_mode": {
    "name": "ipython",
    "version": 3
   },
   "file_extension": ".py",
   "mimetype": "text/x-python",
   "name": "python",
   "nbconvert_exporter": "python",
   "pygments_lexer": "ipython3",
   "version": "3.8.10"
  }
 },
 "nbformat": 4,
 "nbformat_minor": 2
}
